{
 "cells": [
  {
   "cell_type": "code",
   "execution_count": 1,
   "id": "f3606fe1",
   "metadata": {},
   "outputs": [],
   "source": [
    "import sklearn\n",
    "import numpy as np\n",
    "import pandas as pd\n",
    "import re\n",
    "from sklearn.model_selection import train_test_split\n",
    "from sklearn.feature_extraction.text import CountVectorizer\n",
    "from sklearn import svm\n",
    "import time"
   ]
  },
  {
   "cell_type": "code",
   "execution_count": 2,
   "id": "44d1bb26",
   "metadata": {},
   "outputs": [],
   "source": [
    "train = pd.read_csv(\"train_big.csv\")"
   ]
  },
  {
   "cell_type": "code",
   "execution_count": 3,
   "id": "cd6c58f2",
   "metadata": {},
   "outputs": [],
   "source": [
    "columns = ['comment_text', 'toxic']"
   ]
  },
  {
   "cell_type": "code",
   "execution_count": 4,
   "id": "f74d7c8a",
   "metadata": {},
   "outputs": [],
   "source": [
    "train = train[columns]\n",
    "train = train.sample(frac=0.20)"
   ]
  },
  {
   "cell_type": "code",
   "execution_count": 5,
   "id": "ea0e1bec",
   "metadata": {},
   "outputs": [
    {
     "data": {
      "text/html": [
       "<div>\n",
       "<style scoped>\n",
       "    .dataframe tbody tr th:only-of-type {\n",
       "        vertical-align: middle;\n",
       "    }\n",
       "\n",
       "    .dataframe tbody tr th {\n",
       "        vertical-align: top;\n",
       "    }\n",
       "\n",
       "    .dataframe thead th {\n",
       "        text-align: right;\n",
       "    }\n",
       "</style>\n",
       "<table border=\"1\" class=\"dataframe\">\n",
       "  <thead>\n",
       "    <tr style=\"text-align: right;\">\n",
       "      <th></th>\n",
       "      <th>comment_text</th>\n",
       "      <th>toxic</th>\n",
       "    </tr>\n",
       "  </thead>\n",
       "  <tbody>\n",
       "    <tr>\n",
       "      <th>127736</th>\n",
       "      <td>your suggestion that the  literature  section ...</td>\n",
       "      <td>0.0</td>\n",
       "    </tr>\n",
       "    <tr>\n",
       "      <th>131817</th>\n",
       "      <td>today s case gsnguy vs  acmeman  plaintiff  ac...</td>\n",
       "      <td>0.0</td>\n",
       "    </tr>\n",
       "    <tr>\n",
       "      <th>49284</th>\n",
       "      <td>i would simply quote only measured data  not e...</td>\n",
       "      <td>0.0</td>\n",
       "    </tr>\n",
       "    <tr>\n",
       "      <th>90436</th>\n",
       "      <td>image tagging image joseon taejo jpg this med...</td>\n",
       "      <td>0.0</td>\n",
       "    </tr>\n",
       "    <tr>\n",
       "      <th>10033</th>\n",
       "      <td>winston churchill in her autobiography  barrym...</td>\n",
       "      <td>0.0</td>\n",
       "    </tr>\n",
       "  </tbody>\n",
       "</table>\n",
       "</div>"
      ],
      "text/plain": [
       "                                             comment_text  toxic\n",
       "127736  your suggestion that the  literature  section ...    0.0\n",
       "131817  today s case gsnguy vs  acmeman  plaintiff  ac...    0.0\n",
       "49284   i would simply quote only measured data  not e...    0.0\n",
       "90436    image tagging image joseon taejo jpg this med...    0.0\n",
       "10033   winston churchill in her autobiography  barrym...    0.0"
      ]
     },
     "execution_count": 5,
     "metadata": {},
     "output_type": "execute_result"
    }
   ],
   "source": [
    "train.head()"
   ]
  },
  {
   "cell_type": "code",
   "execution_count": 6,
   "id": "b8b4756e",
   "metadata": {},
   "outputs": [
    {
     "data": {
      "text/plain": [
       "28823"
      ]
     },
     "execution_count": 6,
     "metadata": {},
     "output_type": "execute_result"
    }
   ],
   "source": [
    "sum(train[\"toxic\"] == 0)"
   ]
  },
  {
   "cell_type": "code",
   "execution_count": 7,
   "id": "e699dff3",
   "metadata": {},
   "outputs": [
    {
     "data": {
      "text/plain": [
       "3091"
      ]
     },
     "execution_count": 7,
     "metadata": {},
     "output_type": "execute_result"
    }
   ],
   "source": [
    "sum(train[\"toxic\"] == 1)"
   ]
  },
  {
   "cell_type": "code",
   "execution_count": 8,
   "id": "4c4a4acb",
   "metadata": {},
   "outputs": [
    {
     "data": {
      "text/plain": [
       "comment_text    False\n",
       "toxic           False\n",
       "dtype: bool"
      ]
     },
     "execution_count": 8,
     "metadata": {},
     "output_type": "execute_result"
    }
   ],
   "source": [
    "train.isnull().any()"
   ]
  },
  {
   "cell_type": "code",
   "execution_count": 9,
   "id": "ecc8801b",
   "metadata": {},
   "outputs": [],
   "source": [
    "y = train.toxic.values\n",
    "\n",
    "# use 70% for the training and 30% for the test\n",
    "x_train, x_test, y_train, y_test = train_test_split(train.comment_text.values, y, \n",
    "                                                    stratify=y, \n",
    "                                                    random_state=1, \n",
    "                                                    test_size=0.3, shuffle=True)"
   ]
  },
  {
   "cell_type": "code",
   "execution_count": 10,
   "id": "08aa09fc",
   "metadata": {},
   "outputs": [],
   "source": [
    "vectorizer = CountVectorizer(binary=True, stop_words='english')\n",
    "vectorizer.fit(list(x_train) + list(x_test))\n",
    "x_train_vec = vectorizer.transform(x_train)\n",
    "x_test_vec = vectorizer.transform(x_test)"
   ]
  },
  {
   "cell_type": "code",
   "execution_count": null,
   "id": "587c057e",
   "metadata": {},
   "outputs": [],
   "source": [
    "start = time.time()\n",
    "svm = svm.SVC(kernel = 'linear', probability=True)\n",
    "prob = svm.fit(x_train_vec, y_train).predict_proba(x_test_vec)\n",
    "y_pred_svm = svm.predict(x_test_vec)\n",
    "print(f\"training time: {time.time() - start:.2f}s\")"
   ]
  },
  {
   "cell_type": "code",
   "execution_count": null,
   "id": "77139b03",
   "metadata": {},
   "outputs": [],
   "source": [
    "from sklearn.metrics import accuracy_score\n",
    "print(f\"Accuracy score for SVC is: {accuracy_score(y_test, y_pred_svm)*100:0.2f}%\")"
   ]
  }
 ],
 "metadata": {
  "kernelspec": {
   "display_name": "Python 3 (ipykernel)",
   "language": "python",
   "name": "python3"
  },
  "language_info": {
   "codemirror_mode": {
    "name": "ipython",
    "version": 3
   },
   "file_extension": ".py",
   "mimetype": "text/x-python",
   "name": "python",
   "nbconvert_exporter": "python",
   "pygments_lexer": "ipython3",
   "version": "3.10.7"
  }
 },
 "nbformat": 4,
 "nbformat_minor": 5
}
